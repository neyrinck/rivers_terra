{
 "cells": [
  {
   "cell_type": "code",
   "execution_count": 133,
   "id": "8a785761-4d9e-43c0-b4f5-d342e1f30e6d",
   "metadata": {},
   "outputs": [],
   "source": [
    "import numpy as np\n",
    "import scipy as sp\n",
    "import matplotlib.pyplot as plt\n",
    "import matplotlib as mpl\n",
    "import os\n",
    "import sys\n",
    "import terrainutil\n",
    "import matplotlib.animation as animation"
   ]
  },
  {
   "cell_type": "code",
   "execution_count": 2,
   "id": "72b9ad3f-d44f-458a-b703-b8979a1d77e7",
   "metadata": {},
   "outputs": [],
   "source": [
    "def shine(x, s=1.):\n",
    "    return s*np.arcsinh(x/s)\n",
    "\n",
    "def uniform_poissonize(rs,mean,xsize,ppcell=1000.):\n",
    "    \"\"\"\n",
    "    Monte-Carlo poissonization of the density field.\n",
    "    \"\"\"\n",
    "    xpoisson = rs.poisson(size=xsize,lam=mean*ppcell).astype(float)/ppcell\n",
    "\n",
    "    return xpoisson\n",
    "\n",
    "def lum2feet(x):\n",
    "    meters = 1500+2000*x\n",
    "    feet = 3.28084*meters\n",
    "    return feet\n",
    "\n",
    "feetmin = lum2feet(0.)\n",
    "feetmax = lum2feet(1.)"
   ]
  },
  {
   "cell_type": "code",
   "execution_count": 3,
   "id": "11073f71-962e-4d6f-9d17-3337695800ae",
   "metadata": {},
   "outputs": [],
   "source": [
    "# Smooths out slopes of `terrain` that are too steep. Rough approximation of the\n",
    "# phenomenon described here: https://en.wikipedia.org/wiki/Angle_of_repose\n",
    "def apply_slippage(terrain, repose_slope, cell_width):\n",
    "  delta = terrainutil.simple_gradient(terrain) / cell_width\n",
    "  smoothed = terrainutil.gaussian_blur(terrain, sigma=1.5)\n",
    "  should_smooth = np.abs(delta) > repose_slope\n",
    "  result = np.select([np.abs(delta) > repose_slope], [smoothed], terrain)\n",
    "  return result\n"
   ]
  },
  {
   "cell_type": "code",
   "execution_count": 230,
   "id": "b6e3b8ff-f3ce-4227-9dda-40d99eea4320",
   "metadata": {},
   "outputs": [],
   "source": [
    "def erode(terrain, velocity, sediment, water,\n",
    "          cell_area = 200, rain_rate_mult = 0.0008, evaporation_rate = 0.0005, min_height_delta = 0.05, repose_slope = 0.03,\n",
    "          gravity = 30.0, sediment_capacity_constant = 50.0, dissolving_rate = 0.25, deposition_rate = 0.001, seed=None, rs=None, random_rain='uniform'):\n",
    "    # Add precipitation. This is done by via simple uniform random distribution,\n",
    "    # although other models use a raindrop model\n",
    "    rain_rate = cell_area*rain_rate_mult\n",
    "\n",
    "    if (random_rain == 'poisson') or (random_rain == 'uniform'):\n",
    "        if rs == None:\n",
    "            rs = np.random.RandomState(seed=seed)\n",
    "        if random_rain == 'poisson':\n",
    "            water += uniform_poissonize(rs,rain_rate,np.prod(terrain.shape)).reshape(terrain.shape)\n",
    "        elif random_rain =='uniform':\n",
    "            water += np.random.rand(*shape) * rain_rate\n",
    "    else:\n",
    "        water += rain_rate\n",
    "    \n",
    "    # Compute the normalized gradient of the terrain height to determine where \n",
    "    # water and sediment will be moving.\n",
    "    gradient = np.zeros_like(terrain, dtype='complex')\n",
    "    gradient = terrainutil.simple_gradient(terrain)\n",
    "    gradient = np.select([np.abs(gradient) < 1e-10],\n",
    "                             [np.exp(2j * np.pi * np.random.rand(*shape))],\n",
    "                             gradient)\n",
    "    gradient /= np.abs(gradient)\n",
    "    \n",
    "    # Compute the difference between the current height the height offset by\n",
    "    # `gradient`.\n",
    "    neighbor_height = terrainutil.sample(terrain, -gradient)\n",
    "    height_delta = terrain - neighbor_height\n",
    "    \n",
    "    # The sediment capacity represents how much sediment can be suspended in\n",
    "    # water. If the sediment exceeds the quantity, then it is deposited,\n",
    "    # otherwise terrain is eroded.\n",
    "    sediment_capacity = (\n",
    "        (np.maximum(height_delta, min_height_delta) / cell_width) * velocity *\n",
    "        water * sediment_capacity_constant)\n",
    "    deposited_sediment = np.select(\n",
    "        [\n",
    "          height_delta < 0, \n",
    "          sediment > sediment_capacity,\n",
    "        ], [\n",
    "          np.minimum(height_delta, sediment),\n",
    "          deposition_rate * (sediment - sediment_capacity),\n",
    "        ],\n",
    "        # If sediment <= sediment_capacity\n",
    "        dissolving_rate * (sediment - sediment_capacity))\n",
    "    \n",
    "    # Don't erode more sediment than the current terrain height.\n",
    "    deposited_sediment = np.maximum(-height_delta, deposited_sediment)\n",
    "    \n",
    "    # Update terrain and sediment quantities.\n",
    "    sediment -= deposited_sediment\n",
    "    terrain += deposited_sediment\n",
    "    sediment = terrainutil.displace(sediment, gradient)\n",
    "    water = terrainutil.displace(water, gradient)\n",
    "    \n",
    "    # Smooth out steep slopes.\n",
    "    terrain = apply_slippage(terrain, repose_slope, cell_width)\n",
    "    \n",
    "    # Update velocity\n",
    "    velocity = gravity * height_delta / cell_width\n",
    "    \n",
    "    # Apply evaporation\n",
    "    water *= 1 - evaporation_rate\n",
    "\n",
    "    return terrain, velocity, sediment, water"
   ]
  },
  {
   "cell_type": "code",
   "execution_count": 315,
   "id": "89d0e967-0e5a-460b-84e5-d995f399a64c",
   "metadata": {},
   "outputs": [],
   "source": [
    "# Grid dimension constants\n",
    "full_width = 200\n",
    "dim = 500\n",
    "shape = [dim] * 2\n",
    "cell_width = full_width / dim\n",
    "cell_area = cell_width ** 2\n",
    "\n",
    "# Water-related constants\n",
    "rain_rate_mult = 0.0008\n",
    "evaporation_rate = 0.0005\n",
    "\n",
    "# Slope constants\n",
    "min_height_delta = 0.05\n",
    "repose_slope = 0.03\n",
    "gravity = 30.0\n",
    "gradient_sigma = 0.5\n",
    "\n",
    "# Sediment constants\n",
    "sediment_capacity_constant = 50.0\n",
    "dissolving_rate = 0.25\n",
    "deposition_rate = 0.001\n",
    "\n",
    "# The numer of iterations is proportional to the grid dimension. This is to \n",
    "# allow changes on one side of the grid to affect the other side.\n",
    "iterations = int(1.4 * dim)\n",
    "\n",
    "# `terrain` represents the actual terrain height we're interested in\n",
    "#terrain = terrainutil.fbm(shape, -2.0)\n",
    "\n",
    "from PIL import Image\n",
    "terrain = plt.imread(\"/Users/neyrinck/terra_software_class/terrain-erosion-3-ways/mountaincamp.png\")[:,:,0]\n",
    "\n",
    "# `sediment` is the amount of suspended \"dirt\" in the water. Terrain will be\n",
    "# transfered to/from sediment depending on a number of different factors.\n",
    "sediment = np.zeros_like(terrain)\n",
    "\n",
    "# The amount of water. Responsible for carrying sediment.\n",
    "water = np.zeros_like(terrain)\n",
    "\n",
    "# The water velocity.\n",
    "velocity = np.zeros_like(terrain)\n",
    "\n",
    "terrain0 = 1.*terrain\n",
    "velocity0 = 1.*velocity\n",
    "sediment0 = 1.*sediment\n",
    "water0 = 1.*water\n",
    "for i in range(0):\n",
    "    terrain, velocity, sediment, water = erode(terrain, velocity, sediment, water,\n",
    "                                           cell_area = cell_area, rain_rate_mult = 2*rain_rate_mult, evaporation_rate = 5*evaporation_rate, \n",
    "                                           min_height_delta = min_height_delta, repose_slope = 2*repose_slope, gravity = gravity,\n",
    "                                           sediment_capacity_constant = 0*sediment_capacity_constant, dissolving_rate = 0*dissolving_rate,\n",
    "                                           deposition_rate = 0*deposition_rate, random_rain = None)\n",
    "\n",
    "cmap = mpl.colormaps['terrain']\n",
    "\n"
   ]
  },
  {
   "cell_type": "code",
   "execution_count": 316,
   "id": "2b1691d7-e04f-42d5-b518-1dabf2bbc17d",
   "metadata": {},
   "outputs": [
    {
     "name": "stdout",
     "output_type": "stream",
     "text": [
      "Axes(0.125,0.11;0.775x0.77)\n"
     ]
    },
    {
     "data": {
      "image/png": "[encoded data removed]",
      "text/plain": [
       "<Figure size 640x480 with 1 Axes>"
      ]
     },
     "metadata": {},
     "output_type": "display_data"
    }
   ],
   "source": [
    "fig, ax = plt.subplots(nrows=1,ncols=1)\n",
    "print(ax)\n",
    "\n",
    "ani = animation.ArtistAnimation(fig, ims, interval=50, blit=True,\n",
    "                                repeat_delay=1000)\n",
    "\n",
    "ims = []\n",
    "rs = np.random.RandomState()\n",
    "\n",
    "for i in range(800):\n",
    "    #rain_random = rs.gamma(2,scale=1)\n",
    "    rain_random = rs.poisson(lam=0.2)**4\n",
    "    terrain, velocity, sediment, water = erode(terrain, velocity, sediment, water,\n",
    "                                           cell_area = cell_area, rain_rate_mult = rain_random*rain_rate_mult, evaporation_rate = evaporation_rate, \n",
    "                                           min_height_delta = min_height_delta, repose_slope = 10*repose_slope, gravity = gravity,\n",
    "                                           sediment_capacity_constant = 0.5*sediment_capacity_constant, dissolving_rate = 0.5*dissolving_rate,\n",
    "                                           deposition_rate = 0.5*deposition_rate, random_rain = None)\n",
    "\n",
    "    plotter = terrain*(water <= 0.01) + 0 *(water > 0.01)\n",
    "    #wherewater = np.where(water > 0.01)\n",
    "\n",
    "    if (i % 2 == 0):    \n",
    "        im = ax.imshow(lum2feet(plotter),vmin = feetmin,vmax=feetmax,cmap=cmap, animated=True)#; ax.colorbar()\n",
    "        #im = ax.imshow(np.clip(water,0,0.1),vmin=0,vmax=0.4,alpha=5*np.clip(water,0,0.1))\n",
    "        ax.set_xlabel('20 miles'); ax.set_xticks([]); ax.set_yticks([])\n",
    "        ims.append([im])\n",
    "    \n",
    "ani = animation.ArtistAnimation(fig, ims, interval=50, blit=True,\n",
    "                                repeat_delay=1000)\n",
    "\n",
    "plt.show()"
   ]
  },
  {
   "cell_type": "code",
   "execution_count": 317,
   "id": "7da80fb7-8793-4634-b966-2ae54c8172f6",
   "metadata": {
    "scrolled": true
   },
   "outputs": [
    {
     "name": "stdout",
     "output_type": "stream",
     "text": [
      "[[<matplotlib.image.AxesImage object at 0x124313be0>], [<matplotlib.image.AxesImage object at 0x13ef96670>], [<matplotlib.image.AxesImage object at 0x13ef96b80>], [<matplotlib.image.AxesImage object at 0x13ec971f0>], [<matplotlib.image.AxesImage object at 0x13ec97dc0>], [<matplotlib.image.AxesImage object at 0x13ec97490>], [<matplotlib.image.AxesImage object at 0x13ecd9bb0>], [<matplotlib.image.AxesImage object at 0x13ebecd60>], [<matplotlib.image.AxesImage object at 0x13ebec190>], [<matplotlib.image.AxesImage object at 0x13ebec550>], [<matplotlib.image.AxesImage object at 0x13ec908e0>], [<matplotlib.image.AxesImage object at 0x13ec90550>], [<matplotlib.image.AxesImage object at 0x13ec907c0>], [<matplotlib.image.AxesImage object at 0x13ec90070>], [<matplotlib.image.AxesImage object at 0x13ec906d0>], [<matplotlib.image.AxesImage object at 0x13ece96d0>], [<matplotlib.image.AxesImage object at 0x13ece9970>], [<matplotlib.image.AxesImage object at 0x13ece9b20>], [<matplotlib.image.AxesImage object at 0x13ece98e0>], [<matplotlib.image.AxesImage object at 0x13ece9b80>], [<matplotlib.image.AxesImage object at 0x13eb8fa30>], [<matplotlib.image.AxesImage object at 0x13eb8f520>], [<matplotlib.image.AxesImage object at 0x13eb8f970>], [<matplotlib.image.AxesImage object at 0x13eb8f850>], [<matplotlib.image.AxesImage object at 0x13eb8f340>], [<matplotlib.image.AxesImage object at 0x13ec80490>], [<matplotlib.image.AxesImage object at 0x13ec804c0>], [<matplotlib.image.AxesImage object at 0x13ec80940>], [<matplotlib.image.AxesImage object at 0x13f88e790>], [<matplotlib.image.AxesImage object at 0x13ec800a0>], [<matplotlib.image.AxesImage object at 0x1247a4df0>], [<matplotlib.image.AxesImage object at 0x13eadf310>], [<matplotlib.image.AxesImage object at 0x13eadf6a0>], [<matplotlib.image.AxesImage object at 0x13eadf040>], [<matplotlib.image.AxesImage object at 0x13eadf700>], [<matplotlib.image.AxesImage object at 0x13eadfa00>], [<matplotlib.image.AxesImage object at 0x13ee7bca0>], [<matplotlib.image.AxesImage object at 0x13eb7d760>], [<matplotlib.image.AxesImage object at 0x13eb7d040>], [<matplotlib.image.AxesImage object at 0x13eb7d6a0>], [<matplotlib.image.AxesImage object at 0x13eb7d0a0>], [<matplotlib.image.AxesImage object at 0x13eb7d490>], [<matplotlib.image.AxesImage object at 0x13d75ce50>], [<matplotlib.image.AxesImage object at 0x13d75c1f0>], [<matplotlib.image.AxesImage object at 0x13d75c4c0>], [<matplotlib.image.AxesImage object at 0x13d75c100>], [<matplotlib.image.AxesImage object at 0x13d75c550>], [<matplotlib.image.AxesImage object at 0x13d75c6d0>], [<matplotlib.image.AxesImage object at 0x13d6a90a0>], [<matplotlib.image.AxesImage object at 0x13d6a99a0>], [<matplotlib.image.AxesImage object at 0x13d6a9190>], [<matplotlib.image.AxesImage object at 0x13d6a9a30>], [<matplotlib.image.AxesImage object at 0x13d654c40>], [<matplotlib.image.AxesImage object at 0x13d654250>], [<matplotlib.image.AxesImage object at 0x13d654460>], [<matplotlib.image.AxesImage object at 0x13d654310>], [<matplotlib.image.AxesImage object at 0x13d654b80>], [<matplotlib.image.AxesImage object at 0x13d75a880>], [<matplotlib.image.AxesImage object at 0x13d75a9d0>], [<matplotlib.image.AxesImage object at 0x13d75ac40>], [<matplotlib.image.AxesImage object at 0x1247ca670>], [<matplotlib.image.AxesImage object at 0x13d75a6d0>], [<matplotlib.image.AxesImage object at 0x1247ca6a0>], [<matplotlib.image.AxesImage object at 0x13eaf2550>], [<matplotlib.image.AxesImage object at 0x13eaf2910>], [<matplotlib.image.AxesImage object at 0x13eaf21f0>], [<matplotlib.image.AxesImage object at 0x13eaf27c0>], [<matplotlib.image.AxesImage object at 0x13eaf29a0>], [<matplotlib.image.AxesImage object at 0x13d749040>], [<matplotlib.image.AxesImage object at 0x13d749430>], [<matplotlib.image.AxesImage object at 0x13d749550>], [<matplotlib.image.AxesImage object at 0x13d7494c0>], [<matplotlib.image.AxesImage object at 0x13d7496d0>], [<matplotlib.image.AxesImage object at 0x13d699940>], [<matplotlib.image.AxesImage object at 0x13d699a90>], [<matplotlib.image.AxesImage object at 0x13d699ca0>], [<matplotlib.image.AxesImage object at 0x124194d00>], [<matplotlib.image.AxesImage object at 0x13d699f10>], [<matplotlib.image.AxesImage object at 0x124052bb0>], [<matplotlib.image.AxesImage object at 0x13d231e20>], [<matplotlib.image.AxesImage object at 0x13d231d30>], [<matplotlib.image.AxesImage object at 0x13d2319a0>], [<matplotlib.image.AxesImage object at 0x13d2310d0>], [<matplotlib.image.AxesImage object at 0x13d231be0>], [<matplotlib.image.AxesImage object at 0x13d785bb0>], [<matplotlib.image.AxesImage object at 0x13d785610>], [<matplotlib.image.AxesImage object at 0x13d785190>], [<matplotlib.image.AxesImage object at 0x13d785e80>], [<matplotlib.image.AxesImage object at 0x13d7850d0>], [<matplotlib.image.AxesImage object at 0x13d797070>], [<matplotlib.image.AxesImage object at 0x13d797430>], [<matplotlib.image.AxesImage object at 0x13d797d60>], [<matplotlib.image.AxesImage object at 0x13d7973a0>], [<matplotlib.image.AxesImage object at 0x13d797df0>], [<matplotlib.image.AxesImage object at 0x124684250>], [<matplotlib.image.AxesImage object at 0x13d6467f0>], [<matplotlib.image.AxesImage object at 0x13d646160>], [<matplotlib.image.AxesImage object at 0x13d646580>], [<matplotlib.image.AxesImage object at 0x13d6461f0>], [<matplotlib.image.AxesImage object at 0x13d646400>], [<matplotlib.image.AxesImage object at 0x13d221670>], [<matplotlib.image.AxesImage object at 0x13d221070>], [<matplotlib.image.AxesImage object at 0x13d2210d0>], [<matplotlib.image.AxesImage object at 0x13d2216a0>], [<matplotlib.image.AxesImage object at 0x13d2c1160>], [<matplotlib.image.AxesImage object at 0x1387873d0>], [<matplotlib.image.AxesImage object at 0x13d2c11f0>], [<matplotlib.image.AxesImage object at 0x13888fbe0>], [<matplotlib.image.AxesImage object at 0x13e2f4df0>], [<matplotlib.image.AxesImage object at 0x13d2ed2e0>], [<matplotlib.image.AxesImage object at 0x13e0cc700>], [<matplotlib.image.AxesImage object at 0x13e0cc220>], [<matplotlib.image.AxesImage object at 0x1244c2640>], [<matplotlib.image.AxesImage object at 0x13e0cc190>], [<matplotlib.image.AxesImage object at 0x13e0cc5b0>], [<matplotlib.image.AxesImage object at 0x13e2ea790>], [<matplotlib.image.AxesImage object at 0x1388d3a30>], [<matplotlib.image.AxesImage object at 0x1388d3250>], [<matplotlib.image.AxesImage object at 0x1388d3700>], [<matplotlib.image.AxesImage object at 0x1388d3310>], [<matplotlib.image.AxesImage object at 0x1388d3730>], [<matplotlib.image.AxesImage object at 0x13d2d63d0>], [<matplotlib.image.AxesImage object at 0x13d2d6640>], [<matplotlib.image.AxesImage object at 0x13d2d6cd0>], [<matplotlib.image.AxesImage object at 0x13f845ee0>], [<matplotlib.image.AxesImage object at 0x12426f040>], [<matplotlib.image.AxesImage object at 0x12f249dc0>], [<matplotlib.image.AxesImage object at 0x12426f070>], [<matplotlib.image.AxesImage object at 0x13e1d3ca0>], [<matplotlib.image.AxesImage object at 0x13e091d90>], [<matplotlib.image.AxesImage object at 0x13e091100>], [<matplotlib.image.AxesImage object at 0x13e091dc0>], [<matplotlib.image.AxesImage object at 0x13e091130>], [<matplotlib.image.AxesImage object at 0x13e091430>], [<matplotlib.image.AxesImage object at 0x13e082850>], [<matplotlib.image.AxesImage object at 0x13e082f40>], [<matplotlib.image.AxesImage object at 0x13e082190>], [<matplotlib.image.AxesImage object at 0x13e082550>], [<matplotlib.image.AxesImage object at 0x13e082220>], [<matplotlib.image.AxesImage object at 0x13e2c2340>], [<matplotlib.image.AxesImage object at 0x13e2c2760>], [<matplotlib.image.AxesImage object at 0x13e2c20a0>], [<matplotlib.image.AxesImage object at 0x13e2c27c0>], [<matplotlib.image.AxesImage object at 0x122a53850>], [<matplotlib.image.AxesImage object at 0x13e0e7b50>], [<matplotlib.image.AxesImage object at 0x13e0e7f70>], [<matplotlib.image.AxesImage object at 0x13e0e7160>], [<matplotlib.image.AxesImage object at 0x13e0e7fd0>], [<matplotlib.image.AxesImage object at 0x13e0e7190>], [<matplotlib.image.AxesImage object at 0x13d3cad30>], [<matplotlib.image.AxesImage object at 0x13d3cad60>], [<matplotlib.image.AxesImage object at 0x13d3ca8e0>], [<matplotlib.image.AxesImage object at 0x13d3ca850>], [<matplotlib.image.AxesImage object at 0x13d3cac70>], [<matplotlib.image.AxesImage object at 0x13d5f94f0>], [<matplotlib.image.AxesImage object at 0x13d5f93a0>], [<matplotlib.image.AxesImage object at 0x13d5f9400>], [<matplotlib.image.AxesImage object at 0x13d5f9520>], [<matplotlib.image.AxesImage object at 0x13d5f9220>], [<matplotlib.image.AxesImage object at 0x13d5f5b80>], [<matplotlib.image.AxesImage object at 0x13d5f5d90>], [<matplotlib.image.AxesImage object at 0x13d5f5f70>], [<matplotlib.image.AxesImage object at 0x13d5f5e80>], [<matplotlib.image.AxesImage object at 0x13d5f5f10>], [<matplotlib.image.AxesImage object at 0x1389136d0>], [<matplotlib.image.AxesImage object at 0x138913910>], [<matplotlib.image.AxesImage object at 0x138913e20>], [<matplotlib.image.AxesImage object at 0x138913970>], [<matplotlib.image.AxesImage object at 0x1389137c0>], [<matplotlib.image.AxesImage object at 0x12284ea60>], [<matplotlib.image.AxesImage object at 0x13dee4af0>], [<matplotlib.image.AxesImage object at 0x13dee4790>], [<matplotlib.image.AxesImage object at 0x13ec80ac0>], [<matplotlib.image.AxesImage object at 0x13dee4160>], [<matplotlib.image.AxesImage object at 0x13dee4610>], [<matplotlib.image.AxesImage object at 0x13da38700>], [<matplotlib.image.AxesImage object at 0x13df66580>], [<matplotlib.image.AxesImage object at 0x13da12850>], [<matplotlib.image.AxesImage object at 0x13da121f0>], [<matplotlib.image.AxesImage object at 0x13e16e7c0>], [<matplotlib.image.AxesImage object at 0x13e16edc0>], [<matplotlib.image.AxesImage object at 0x13e16e2e0>], [<matplotlib.image.AxesImage object at 0x13e16ebe0>], [<matplotlib.image.AxesImage object at 0x13e16e250>], [<matplotlib.image.AxesImage object at 0x13e143640>], [<matplotlib.image.AxesImage object at 0x13e143c10>], [<matplotlib.image.AxesImage object at 0x13e143c70>], [<matplotlib.image.AxesImage object at 0x13e1439d0>], [<matplotlib.image.AxesImage object at 0x13e143a90>], [<matplotlib.image.AxesImage object at 0x1389016a0>], [<matplotlib.image.AxesImage object at 0x1389018e0>], [<matplotlib.image.AxesImage object at 0x138901b80>], [<matplotlib.image.AxesImage object at 0x138901970>], [<matplotlib.image.AxesImage object at 0x138901c10>], [<matplotlib.image.AxesImage object at 0x13e1e8cd0>], [<matplotlib.image.AxesImage object at 0x13e1e8e50>], [<matplotlib.image.AxesImage object at 0x13de4e670>], [<matplotlib.image.AxesImage object at 0x13de4ec40>], [<matplotlib.image.AxesImage object at 0x13de4ee20>], [<matplotlib.image.AxesImage object at 0x13de4e4f0>], [<matplotlib.image.AxesImage object at 0x13de4eee0>], [<matplotlib.image.AxesImage object at 0x13da2fb80>], [<matplotlib.image.AxesImage object at 0x13da2f940>], [<matplotlib.image.AxesImage object at 0x13da2fc10>], [<matplotlib.image.AxesImage object at 0x13de788b0>], [<matplotlib.image.AxesImage object at 0x13de78310>], [<matplotlib.image.AxesImage object at 0x13de78040>], [<matplotlib.image.AxesImage object at 0x13de785b0>], [<matplotlib.image.AxesImage object at 0x13de784f0>], [<matplotlib.image.AxesImage object at 0x13e1d09a0>], [<matplotlib.image.AxesImage object at 0x13e02c7f0>], [<matplotlib.image.AxesImage object at 0x13e02cd00>], [<matplotlib.image.AxesImage object at 0x13e02cac0>], [<matplotlib.image.AxesImage object at 0x13e02cd60>], [<matplotlib.image.AxesImage object at 0x13e02cf40>], [<matplotlib.image.AxesImage object at 0x13ddfb0a0>], [<matplotlib.image.AxesImage object at 0x13ddfb5e0>], [<matplotlib.image.AxesImage object at 0x13ddfbdc0>], [<matplotlib.image.AxesImage object at 0x13ddfb640>], [<matplotlib.image.AxesImage object at 0x13ddfb7c0>], [<matplotlib.image.AxesImage object at 0x138a9c040>], [<matplotlib.image.AxesImage object at 0x138a9ca60>], [<matplotlib.image.AxesImage object at 0x138a9ce80>], [<matplotlib.image.AxesImage object at 0x138a9c760>], [<matplotlib.image.AxesImage object at 0x138a9cf10>], [<matplotlib.image.AxesImage object at 0x13ddc6160>], [<matplotlib.image.AxesImage object at 0x13ddc6a30>], [<matplotlib.image.AxesImage object at 0x13ddc6730>], [<matplotlib.image.AxesImage object at 0x13ddc6400>], [<matplotlib.image.AxesImage object at 0x13ddc68b0>], [<matplotlib.image.AxesImage object at 0x13898b460>], [<matplotlib.image.AxesImage object at 0x13898b190>], [<matplotlib.image.AxesImage object at 0x13898b250>], [<matplotlib.image.AxesImage object at 0x13898bb50>], [<matplotlib.image.AxesImage object at 0x13e456910>], [<matplotlib.image.AxesImage object at 0x13e4567c0>], [<matplotlib.image.AxesImage object at 0x13e456c10>], [<matplotlib.image.AxesImage object at 0x13e456b20>], [<matplotlib.image.AxesImage object at 0x13e456760>], [<matplotlib.image.AxesImage object at 0x138a8c2b0>], [<matplotlib.image.AxesImage object at 0x138a9f7f0>], [<matplotlib.image.AxesImage object at 0x138a9f3d0>], [<matplotlib.image.AxesImage object at 0x13d591d90>], [<matplotlib.image.AxesImage object at 0x13d5913d0>], [<matplotlib.image.AxesImage object at 0x13d591310>], [<matplotlib.image.AxesImage object at 0x13d591400>], [<matplotlib.image.AxesImage object at 0x13d591820>], [<matplotlib.image.AxesImage object at 0x13d59a2e0>], [<matplotlib.image.AxesImage object at 0x13d59aaf0>], [<matplotlib.image.AxesImage object at 0x13d59adf0>], [<matplotlib.image.AxesImage object at 0x13d59a4c0>], [<matplotlib.image.AxesImage object at 0x13d59a2b0>], [<matplotlib.image.AxesImage object at 0x13d59a700>], [<matplotlib.image.AxesImage object at 0x13d5aeac0>], [<matplotlib.image.AxesImage object at 0x13d5ae7f0>], [<matplotlib.image.AxesImage object at 0x12283c9d0>], [<matplotlib.image.AxesImage object at 0x13d5ae1c0>], [<matplotlib.image.AxesImage object at 0x13d5ae670>], [<matplotlib.image.AxesImage object at 0x13e4110a0>], [<matplotlib.image.AxesImage object at 0x13e4119d0>], [<matplotlib.image.AxesImage object at 0x13e411ee0>], [<matplotlib.image.AxesImage object at 0x13e411be0>], [<matplotlib.image.AxesImage object at 0x1225b65e0>], [<matplotlib.image.AxesImage object at 0x138abceb0>], [<matplotlib.image.AxesImage object at 0x138abc550>], [<matplotlib.image.AxesImage object at 0x138abc250>], [<matplotlib.image.AxesImage object at 0x138abc5e0>], [<matplotlib.image.AxesImage object at 0x138abc2e0>], [<matplotlib.image.AxesImage object at 0x13e40be80>], [<matplotlib.image.AxesImage object at 0x13e40bf10>], [<matplotlib.image.AxesImage object at 0x13e40b3a0>], [<matplotlib.image.AxesImage object at 0x13e40beb0>], [<matplotlib.image.AxesImage object at 0x13e40bdc0>], [<matplotlib.image.AxesImage object at 0x13e420640>], [<matplotlib.image.AxesImage object at 0x13e420730>], [<matplotlib.image.AxesImage object at 0x13e4204f0>], [<matplotlib.image.AxesImage object at 0x13e4206d0>], [<matplotlib.image.AxesImage object at 0x13d5022b0>], [<matplotlib.image.AxesImage object at 0x13d5021c0>], [<matplotlib.image.AxesImage object at 0x13d502a30>], [<matplotlib.image.AxesImage object at 0x12420dbb0>], [<matplotlib.image.AxesImage object at 0x13d502e50>], [<matplotlib.image.AxesImage object at 0x13d5021f0>], [<matplotlib.image.AxesImage object at 0x1243ff100>], [<matplotlib.image.AxesImage object at 0x13d50da00>], [<matplotlib.image.AxesImage object at 0x13d50d700>], [<matplotlib.image.AxesImage object at 0x13d50da60>], [<matplotlib.image.AxesImage object at 0x13d50d1c0>], [<matplotlib.image.AxesImage object at 0x13dd046a0>], [<matplotlib.image.AxesImage object at 0x13dd04490>], [<matplotlib.image.AxesImage object at 0x13dd04bb0>], [<matplotlib.image.AxesImage object at 0x13dd04a90>], [<matplotlib.image.AxesImage object at 0x13dd047c0>], [<matplotlib.image.AxesImage object at 0x13e4257f0>], [<matplotlib.image.AxesImage object at 0x13e4250a0>], [<matplotlib.image.AxesImage object at 0x1087764c0>], [<matplotlib.image.AxesImage object at 0x13e425100>], [<matplotlib.image.AxesImage object at 0x13e425850>], [<matplotlib.image.AxesImage object at 0x13db6cdf0>], [<matplotlib.image.AxesImage object at 0x13db6cb20>], [<matplotlib.image.AxesImage object at 0x13db6c460>], [<matplotlib.image.AxesImage object at 0x13db6c430>], [<matplotlib.image.AxesImage object at 0x13db6c580>], [<matplotlib.image.AxesImage object at 0x13db5ca60>], [<matplotlib.image.AxesImage object at 0x13db5cfd0>], [<matplotlib.image.AxesImage object at 0x13db5c3d0>], [<matplotlib.image.AxesImage object at 0x13db5c430>], [<matplotlib.image.AxesImage object at 0x13db5c790>], [<matplotlib.image.AxesImage object at 0x13d19e9d0>], [<matplotlib.image.AxesImage object at 0x13d19e910>], [<matplotlib.image.AxesImage object at 0x13d19e070>], [<matplotlib.image.AxesImage object at 0x13d19ecd0>], [<matplotlib.image.AxesImage object at 0x13d19e190>], [<matplotlib.image.AxesImage object at 0x13d1ba0d0>], [<matplotlib.image.AxesImage object at 0x13d1ba520>], [<matplotlib.image.AxesImage object at 0x13d1ba190>], [<matplotlib.image.AxesImage object at 0x13d1ba430>], [<matplotlib.image.AxesImage object at 0x1244312b0>], [<matplotlib.image.AxesImage object at 0x13db6f400>], [<matplotlib.image.AxesImage object at 0x13db6fe20>], [<matplotlib.image.AxesImage object at 0x13db6f9d0>], [<matplotlib.image.AxesImage object at 0x13db6fac0>], [<matplotlib.image.AxesImage object at 0x13db6f2e0>], [<matplotlib.image.AxesImage object at 0x13d443760>], [<matplotlib.image.AxesImage object at 0x13d443d00>], [<matplotlib.image.AxesImage object at 0x13d4435b0>], [<matplotlib.image.AxesImage object at 0x13d443ca0>], [<matplotlib.image.AxesImage object at 0x13d443640>], [<matplotlib.image.AxesImage object at 0x13d1a5910>], [<matplotlib.image.AxesImage object at 0x13d1a57f0>], [<matplotlib.image.AxesImage object at 0x13d1a5a90>], [<matplotlib.image.AxesImage object at 0x13d1a53d0>], [<matplotlib.image.AxesImage object at 0x13d1a5ca0>], [<matplotlib.image.AxesImage object at 0x124178b20>], [<matplotlib.image.AxesImage object at 0x13e8ce730>], [<matplotlib.image.AxesImage object at 0x13e8ce490>], [<matplotlib.image.AxesImage object at 0x13e8ce700>], [<matplotlib.image.AxesImage object at 0x13e8ce2b0>], [<matplotlib.image.AxesImage object at 0x13e8ce280>], [<matplotlib.image.AxesImage object at 0x13894e2e0>], [<matplotlib.image.AxesImage object at 0x13894e400>], [<matplotlib.image.AxesImage object at 0x13894e4c0>], [<matplotlib.image.AxesImage object at 0x13894e430>], [<matplotlib.image.AxesImage object at 0x13894e640>], [<matplotlib.image.AxesImage object at 0x13dc558b0>], [<matplotlib.image.AxesImage object at 0x13dc55c40>], [<matplotlib.image.AxesImage object at 0x13dc55ca0>], [<matplotlib.image.AxesImage object at 0x13dc558e0>], [<matplotlib.image.AxesImage object at 0x13dc553a0>], [<matplotlib.image.AxesImage object at 0x138ad2e20>], [<matplotlib.image.AxesImage object at 0x138ad2520>], [<matplotlib.image.AxesImage object at 0x138ad2820>], [<matplotlib.image.AxesImage object at 0x12f2499d0>], [<matplotlib.image.AxesImage object at 0x138ad27c0>], [<matplotlib.image.AxesImage object at 0x138ad21f0>], [<matplotlib.image.AxesImage object at 0x13d3372b0>], [<matplotlib.image.AxesImage object at 0x13d3376d0>], [<matplotlib.image.AxesImage object at 0x13d337a60>], [<matplotlib.image.AxesImage object at 0x13d337730>], [<matplotlib.image.AxesImage object at 0x13d337fa0>], [<matplotlib.image.AxesImage object at 0x13dfed3a0>], [<matplotlib.image.AxesImage object at 0x13dfed3d0>], [<matplotlib.image.AxesImage object at 0x13dfed130>], [<matplotlib.image.AxesImage object at 0x13dfed790>], [<matplotlib.image.AxesImage object at 0x13dfedee0>], [<matplotlib.image.AxesImage object at 0x13dca7dc0>], [<matplotlib.image.AxesImage object at 0x13dca7460>], [<matplotlib.image.AxesImage object at 0x13dca7580>], [<matplotlib.image.AxesImage object at 0x13dca74f0>], [<matplotlib.image.AxesImage object at 0x13dca7280>], [<matplotlib.image.AxesImage object at 0x122c26280>], [<matplotlib.image.AxesImage object at 0x13d3b1bb0>], [<matplotlib.image.AxesImage object at 0x13d3b1550>], [<matplotlib.image.AxesImage object at 0x13d3b1dc0>], [<matplotlib.image.AxesImage object at 0x13d3b1d90>], [<matplotlib.image.AxesImage object at 0x13d3b1820>], [<matplotlib.image.AxesImage object at 0x13dffd610>], [<matplotlib.image.AxesImage object at 0x13dffd6a0>], [<matplotlib.image.AxesImage object at 0x13dffd430>], [<matplotlib.image.AxesImage object at 0x122ce5070>], [<matplotlib.image.AxesImage object at 0x13dffd4c0>], [<matplotlib.image.AxesImage object at 0x13e7f2b80>], [<matplotlib.image.AxesImage object at 0x13de04f40>], [<matplotlib.image.AxesImage object at 0x13de04e50>], [<matplotlib.image.AxesImage object at 0x13de04df0>], [<matplotlib.image.AxesImage object at 0x13de04c70>], [<matplotlib.image.AxesImage object at 0x13de04550>], [<matplotlib.image.AxesImage object at 0x13dac2af0>], [<matplotlib.image.AxesImage object at 0x13dac2040>], [<matplotlib.image.AxesImage object at 0x13dac2730>], [<matplotlib.image.AxesImage object at 0x13dac20d0>], [<matplotlib.image.AxesImage object at 0x13dac24f0>], [<matplotlib.image.AxesImage object at 0x13d4aca30>], [<matplotlib.image.AxesImage object at 0x13d4ac340>], [<matplotlib.image.AxesImage object at 0x13d4ac6a0>], [<matplotlib.image.AxesImage object at 0x13d4ac3a0>], [<matplotlib.image.AxesImage object at 0x13d4acbe0>], [<matplotlib.image.AxesImage object at 0x12419e160>], [<matplotlib.image.AxesImage object at 0x13d3beb80>], [<matplotlib.image.AxesImage object at 0x13d3bedc0>]]\n"
     ]
    }
   ],
   "source": [
    "print(ims)\n",
    "ani.save('test.mp4')"
   ]
  },
  {
   "cell_type": "code",
   "execution_count": null,
   "id": "8b13ffa5-96b1-42f4-a891-e5ce75831f15",
   "metadata": {},
   "outputs": [],
   "source": []
  }
 ],
 "metadata": {
  "kernelspec": {
   "display_name": "Python 3 (ipykernel)",
   "language": "python",
   "name": "python3"
  },
  "language_info": {
   "codemirror_mode": {
    "name": "ipython",
    "version": 3
   },
   "file_extension": ".py",
   "mimetype": "text/x-python",
   "name": "python",
   "nbconvert_exporter": "python",
   "pygments_lexer": "ipython3",
   "version": "3.9.18"
  }
 },
 "nbformat": 4,
 "nbformat_minor": 5
}
